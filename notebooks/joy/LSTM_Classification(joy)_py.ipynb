{
  "cells": [
    {
      "cell_type": "code",
      "source": [
        "from nltk.corpus import stopwords\n",
        "import pandas as pd\n",
        "import re\n",
        "from nltk.stem import PorterStemmer\n",
        "stemmer = PorterStemmer()"
      ],
      "metadata": {
        "id": "2L_mDXplHQF9"
      },
      "id": "2L_mDXplHQF9",
      "execution_count": 1,
      "outputs": []
    },
    {
      "cell_type": "code",
      "source": [
        "train = pd.read_csv('EI-oc-En-joy-train.txt', sep='\\t', error_bad_lines=False)\n",
        "train.columns = [\"ID\", \"Tweet\", \"Affect_Dimension\", \"Intensity_Class\"]\n",
        "dev = pd.read_csv('EI-oc-En-joy-dev.txt', sep='\\t', error_bad_lines=False)\n",
        "dev.columns = [\"ID\", \"Tweet\", \"Affect_Dimension\", \"Intensity_Class\"]\n",
        "test= pd.read_csv(\"EI-oc-En-joy-test.txt\", sep='\\t', error_bad_lines=False)\n",
        "test.columns = [\"ID\", \"Tweet\", \"Affect_Dimension\", \"Intensity_Class\"]"
      ],
      "metadata": {
        "colab": {
          "base_uri": "https://localhost:8080/"
        },
        "id": "ZanxuMeTHSAF",
        "outputId": "5790af93-dadb-4421-b199-8cce50eee3d0"
      },
      "id": "ZanxuMeTHSAF",
      "execution_count": 2,
      "outputs": [
        {
          "output_type": "stream",
          "name": "stderr",
          "text": [
            "<ipython-input-2-0e23d5bb97fc>:1: FutureWarning: The error_bad_lines argument has been deprecated and will be removed in a future version. Use on_bad_lines in the future.\n",
            "\n",
            "\n",
            "  train = pd.read_csv('EI-oc-En-joy-train.txt', sep='\\t', error_bad_lines=False)\n",
            "<ipython-input-2-0e23d5bb97fc>:3: FutureWarning: The error_bad_lines argument has been deprecated and will be removed in a future version. Use on_bad_lines in the future.\n",
            "\n",
            "\n",
            "  dev = pd.read_csv('EI-oc-En-joy-dev.txt', sep='\\t', error_bad_lines=False)\n",
            "<ipython-input-2-0e23d5bb97fc>:5: FutureWarning: The error_bad_lines argument has been deprecated and will be removed in a future version. Use on_bad_lines in the future.\n",
            "\n",
            "\n",
            "  test= pd.read_csv(\"EI-oc-En-joy-test.txt\", sep='\\t', error_bad_lines=False)\n"
          ]
        }
      ]
    },
    {
      "cell_type": "code",
      "source": [
        "test"
      ],
      "metadata": {
        "colab": {
          "base_uri": "https://localhost:8080/",
          "height": 424
        },
        "id": "cV1imXEcHTvy",
        "outputId": "b5ac5a84-7dba-4e46-de31-e60b3894d698"
      },
      "id": "cV1imXEcHTvy",
      "execution_count": 3,
      "outputs": [
        {
          "output_type": "execute_result",
          "data": {
            "text/plain": [
              "                 ID                                              Tweet  \\\n",
              "0     2018-En-00290          People are truly #amazing. #inspiring day   \n",
              "1     2018-En-03093  What are some good #funny #entertaining #inter...   \n",
              "2     2018-En-00588  @NoahWebHouse A review of my book faulted me f...   \n",
              "3     2018-En-01532  #good to learning #wisdom &lt;&lt; reform (v):...   \n",
              "4     2018-En-03258  Really excited to see our team this year, and ...   \n",
              "...             ...                                                ...   \n",
              "1100  2018-En-01638  @LFC_Povey I'm enjoying this so much😂 they're ...   \n",
              "1101  2018-En-00202  Chanyeol always cheering, he'll claps loudly a...   \n",
              "1102  2018-En-04354  And yet again, @MarliePacker sets the back row...   \n",
              "1103  2018-En-02244  themselves so don't let them get to you. #hate...   \n",
              "1104  2018-En-02377  I really love @TheFostersTV really great start...   \n",
              "\n",
              "     Affect_Dimension Intensity_Class  \n",
              "0                 joy            NONE  \n",
              "1                 joy            NONE  \n",
              "2                 joy            NONE  \n",
              "3                 joy            NONE  \n",
              "4                 joy            NONE  \n",
              "...               ...             ...  \n",
              "1100              joy            NONE  \n",
              "1101              joy            NONE  \n",
              "1102              joy            NONE  \n",
              "1103              joy            NONE  \n",
              "1104              joy            NONE  \n",
              "\n",
              "[1105 rows x 4 columns]"
            ],
            "text/html": [
              "\n",
              "  <div id=\"df-0dd1f72d-21c5-4406-9286-1ccc0a480a85\">\n",
              "    <div class=\"colab-df-container\">\n",
              "      <div>\n",
              "<style scoped>\n",
              "    .dataframe tbody tr th:only-of-type {\n",
              "        vertical-align: middle;\n",
              "    }\n",
              "\n",
              "    .dataframe tbody tr th {\n",
              "        vertical-align: top;\n",
              "    }\n",
              "\n",
              "    .dataframe thead th {\n",
              "        text-align: right;\n",
              "    }\n",
              "</style>\n",
              "<table border=\"1\" class=\"dataframe\">\n",
              "  <thead>\n",
              "    <tr style=\"text-align: right;\">\n",
              "      <th></th>\n",
              "      <th>ID</th>\n",
              "      <th>Tweet</th>\n",
              "      <th>Affect_Dimension</th>\n",
              "      <th>Intensity_Class</th>\n",
              "    </tr>\n",
              "  </thead>\n",
              "  <tbody>\n",
              "    <tr>\n",
              "      <th>0</th>\n",
              "      <td>2018-En-00290</td>\n",
              "      <td>People are truly #amazing. #inspiring day</td>\n",
              "      <td>joy</td>\n",
              "      <td>NONE</td>\n",
              "    </tr>\n",
              "    <tr>\n",
              "      <th>1</th>\n",
              "      <td>2018-En-03093</td>\n",
              "      <td>What are some good #funny #entertaining #inter...</td>\n",
              "      <td>joy</td>\n",
              "      <td>NONE</td>\n",
              "    </tr>\n",
              "    <tr>\n",
              "      <th>2</th>\n",
              "      <td>2018-En-00588</td>\n",
              "      <td>@NoahWebHouse A review of my book faulted me f...</td>\n",
              "      <td>joy</td>\n",
              "      <td>NONE</td>\n",
              "    </tr>\n",
              "    <tr>\n",
              "      <th>3</th>\n",
              "      <td>2018-En-01532</td>\n",
              "      <td>#good to learning #wisdom &amp;lt;&amp;lt; reform (v):...</td>\n",
              "      <td>joy</td>\n",
              "      <td>NONE</td>\n",
              "    </tr>\n",
              "    <tr>\n",
              "      <th>4</th>\n",
              "      <td>2018-En-03258</td>\n",
              "      <td>Really excited to see our team this year, and ...</td>\n",
              "      <td>joy</td>\n",
              "      <td>NONE</td>\n",
              "    </tr>\n",
              "    <tr>\n",
              "      <th>...</th>\n",
              "      <td>...</td>\n",
              "      <td>...</td>\n",
              "      <td>...</td>\n",
              "      <td>...</td>\n",
              "    </tr>\n",
              "    <tr>\n",
              "      <th>1100</th>\n",
              "      <td>2018-En-01638</td>\n",
              "      <td>@LFC_Povey I'm enjoying this so much😂 they're ...</td>\n",
              "      <td>joy</td>\n",
              "      <td>NONE</td>\n",
              "    </tr>\n",
              "    <tr>\n",
              "      <th>1101</th>\n",
              "      <td>2018-En-00202</td>\n",
              "      <td>Chanyeol always cheering, he'll claps loudly a...</td>\n",
              "      <td>joy</td>\n",
              "      <td>NONE</td>\n",
              "    </tr>\n",
              "    <tr>\n",
              "      <th>1102</th>\n",
              "      <td>2018-En-04354</td>\n",
              "      <td>And yet again, @MarliePacker sets the back row...</td>\n",
              "      <td>joy</td>\n",
              "      <td>NONE</td>\n",
              "    </tr>\n",
              "    <tr>\n",
              "      <th>1103</th>\n",
              "      <td>2018-En-02244</td>\n",
              "      <td>themselves so don't let them get to you. #hate...</td>\n",
              "      <td>joy</td>\n",
              "      <td>NONE</td>\n",
              "    </tr>\n",
              "    <tr>\n",
              "      <th>1104</th>\n",
              "      <td>2018-En-02377</td>\n",
              "      <td>I really love @TheFostersTV really great start...</td>\n",
              "      <td>joy</td>\n",
              "      <td>NONE</td>\n",
              "    </tr>\n",
              "  </tbody>\n",
              "</table>\n",
              "<p>1105 rows × 4 columns</p>\n",
              "</div>\n",
              "      <button class=\"colab-df-convert\" onclick=\"convertToInteractive('df-0dd1f72d-21c5-4406-9286-1ccc0a480a85')\"\n",
              "              title=\"Convert this dataframe to an interactive table.\"\n",
              "              style=\"display:none;\">\n",
              "        \n",
              "  <svg xmlns=\"http://www.w3.org/2000/svg\" height=\"24px\"viewBox=\"0 0 24 24\"\n",
              "       width=\"24px\">\n",
              "    <path d=\"M0 0h24v24H0V0z\" fill=\"none\"/>\n",
              "    <path d=\"M18.56 5.44l.94 2.06.94-2.06 2.06-.94-2.06-.94-.94-2.06-.94 2.06-2.06.94zm-11 1L8.5 8.5l.94-2.06 2.06-.94-2.06-.94L8.5 2.5l-.94 2.06-2.06.94zm10 10l.94 2.06.94-2.06 2.06-.94-2.06-.94-.94-2.06-.94 2.06-2.06.94z\"/><path d=\"M17.41 7.96l-1.37-1.37c-.4-.4-.92-.59-1.43-.59-.52 0-1.04.2-1.43.59L10.3 9.45l-7.72 7.72c-.78.78-.78 2.05 0 2.83L4 21.41c.39.39.9.59 1.41.59.51 0 1.02-.2 1.41-.59l7.78-7.78 2.81-2.81c.8-.78.8-2.07 0-2.86zM5.41 20L4 18.59l7.72-7.72 1.47 1.35L5.41 20z\"/>\n",
              "  </svg>\n",
              "      </button>\n",
              "      \n",
              "  <style>\n",
              "    .colab-df-container {\n",
              "      display:flex;\n",
              "      flex-wrap:wrap;\n",
              "      gap: 12px;\n",
              "    }\n",
              "\n",
              "    .colab-df-convert {\n",
              "      background-color: #E8F0FE;\n",
              "      border: none;\n",
              "      border-radius: 50%;\n",
              "      cursor: pointer;\n",
              "      display: none;\n",
              "      fill: #1967D2;\n",
              "      height: 32px;\n",
              "      padding: 0 0 0 0;\n",
              "      width: 32px;\n",
              "    }\n",
              "\n",
              "    .colab-df-convert:hover {\n",
              "      background-color: #E2EBFA;\n",
              "      box-shadow: 0px 1px 2px rgba(60, 64, 67, 0.3), 0px 1px 3px 1px rgba(60, 64, 67, 0.15);\n",
              "      fill: #174EA6;\n",
              "    }\n",
              "\n",
              "    [theme=dark] .colab-df-convert {\n",
              "      background-color: #3B4455;\n",
              "      fill: #D2E3FC;\n",
              "    }\n",
              "\n",
              "    [theme=dark] .colab-df-convert:hover {\n",
              "      background-color: #434B5C;\n",
              "      box-shadow: 0px 1px 3px 1px rgba(0, 0, 0, 0.15);\n",
              "      filter: drop-shadow(0px 1px 2px rgba(0, 0, 0, 0.3));\n",
              "      fill: #FFFFFF;\n",
              "    }\n",
              "  </style>\n",
              "\n",
              "      <script>\n",
              "        const buttonEl =\n",
              "          document.querySelector('#df-0dd1f72d-21c5-4406-9286-1ccc0a480a85 button.colab-df-convert');\n",
              "        buttonEl.style.display =\n",
              "          google.colab.kernel.accessAllowed ? 'block' : 'none';\n",
              "\n",
              "        async function convertToInteractive(key) {\n",
              "          const element = document.querySelector('#df-0dd1f72d-21c5-4406-9286-1ccc0a480a85');\n",
              "          const dataTable =\n",
              "            await google.colab.kernel.invokeFunction('convertToInteractive',\n",
              "                                                     [key], {});\n",
              "          if (!dataTable) return;\n",
              "\n",
              "          const docLinkHtml = 'Like what you see? Visit the ' +\n",
              "            '<a target=\"_blank\" href=https://colab.research.google.com/notebooks/data_table.ipynb>data table notebook</a>'\n",
              "            + ' to learn more about interactive tables.';\n",
              "          element.innerHTML = '';\n",
              "          dataTable['output_type'] = 'display_data';\n",
              "          await google.colab.output.renderOutput(dataTable, element);\n",
              "          const docLink = document.createElement('div');\n",
              "          docLink.innerHTML = docLinkHtml;\n",
              "          element.appendChild(docLink);\n",
              "        }\n",
              "      </script>\n",
              "    </div>\n",
              "  </div>\n",
              "  "
            ]
          },
          "metadata": {},
          "execution_count": 3
        }
      ]
    },
    {
      "cell_type": "code",
      "source": [
        "train['Intensity_Class'] = pd.Categorical(train['Intensity_Class'])\n",
        "train['Intensity_Class'] =train.Intensity_Class.cat.codes\n",
        "\n",
        "dev['Intensity_Class'] = pd.Categorical(dev['Intensity_Class'])\n",
        "dev['Intensity_Class'] = dev.Intensity_Class.cat.codes\n",
        "\n",
        "test['Intensity_Class'] = pd.Categorical(test['Intensity_Class'])\n",
        "test['Intensity_Class'] = test.Intensity_Class.cat.codes"
      ],
      "metadata": {
        "id": "7fp6eGY9HV7Y"
      },
      "id": "7fp6eGY9HV7Y",
      "execution_count": 4,
      "outputs": []
    },
    {
      "cell_type": "code",
      "source": [
        "import nltk\n",
        "nltk.download('stopwords')\n",
        "\n",
        "stop_words = set(stopwords.words('english'))\n",
        "stop_words.update([\"now\",\"let\", 'zero', 'one', 'two', 'three','four','five','six','seven','eight','nine','ten','may','also','across','among','beside','however','yet','within'])\n",
        "re_stop_words = re.compile(r\"\\b(\" + \"|\".join(stop_words) + \")\\\\W\", re.I)\n",
        "\n",
        "#Removing Stop Words\n",
        "\n",
        "def removeStopWords(sentence):\n",
        "    global re_stop_words\n",
        "    return re_stop_words.sub(\" \", sentence)\n",
        "\n",
        "train['Tweet'] = train['Tweet'].apply(removeStopWords)\n",
        "test['Tweet'] = test['Tweet'].apply(removeStopWords)\n",
        "dev['Tweet'] = dev['Tweet'].apply(removeStopWords)\n",
        "\n",
        "#Stemming\n",
        "from nltk.stem import PorterStemmer\n",
        "stemmer = PorterStemmer()\n",
        "from nltk.stem.snowball import SnowballStemmer\n",
        "\n",
        "stemmer = SnowballStemmer(\"english\")\n",
        "def stemming(sentence):\n",
        "    stemSentence = \"\"\n",
        "    for word in sentence.split():\n",
        "        stem = stemmer.stem(word)\n",
        "        stemSentence += stem\n",
        "        stemSentence += \" \"\n",
        "    stemSentence = stemSentence.strip()\n",
        "    return stemSentence\n",
        "\n",
        "train['Tweet'] = train['Tweet'].apply(stemming)\n",
        "dev['Tweet'] = dev['Tweet'].apply(stemming)\n",
        "test['Tweet'] = test['Tweet'].apply(stemming)"
      ],
      "metadata": {
        "colab": {
          "base_uri": "https://localhost:8080/"
        },
        "id": "iTkWzYERHYlB",
        "outputId": "3a9a12c9-e2e2-44c5-a3d0-7b3ddf6e6b32"
      },
      "id": "iTkWzYERHYlB",
      "execution_count": 5,
      "outputs": [
        {
          "output_type": "stream",
          "name": "stderr",
          "text": [
            "[nltk_data] Downloading package stopwords to /root/nltk_data...\n",
            "[nltk_data]   Package stopwords is already up-to-date!\n"
          ]
        }
      ]
    },
    {
      "cell_type": "code",
      "source": [
        "from keras.utils import to_categorical\n",
        "target=train.Intensity_Class.values\n",
        "y=to_categorical(target)\n",
        "\n",
        "target=dev.Intensity_Class.values\n",
        "c=to_categorical(target)\n",
        "\n",
        "max_features = 13000\n",
        "max_words = 50\n",
        "batch_size = 128\n",
        "epochs = 3\n",
        "num_classes=4\n",
        "\n",
        "X_train = train[\"Tweet\"]\n",
        "X_val = dev[\"Tweet\"]\n",
        "Y_train = y\n",
        "Y_val = c"
      ],
      "metadata": {
        "id": "ukWDUXhNHdyA"
      },
      "id": "ukWDUXhNHdyA",
      "execution_count": 6,
      "outputs": []
    },
    {
      "cell_type": "code",
      "source": [
        "from keras.utils import pad_sequences\n",
        "from keras.models import Sequential\n",
        "from keras.layers import Dense,GRU,LSTM,Embedding\n",
        "from keras.optimizers import Adam\n",
        "from keras.layers import SpatialDropout1D,Dropout,Bidirectional,Conv1D,GlobalMaxPooling1D,MaxPooling1D,Flatten\n",
        "from keras.callbacks import ModelCheckpoint, TensorBoard, Callback, EarlyStopping"
      ],
      "metadata": {
        "id": "EBUTWqdHHjjX"
      },
      "id": "EBUTWqdHHjjX",
      "execution_count": 7,
      "outputs": []
    },
    {
      "cell_type": "code",
      "source": [
        "import nltk\n",
        "nltk.download(\"punkt\")"
      ],
      "metadata": {
        "colab": {
          "base_uri": "https://localhost:8080/"
        },
        "id": "o45G2E9XKg6V",
        "outputId": "e31aa072-3d39-4115-f342-76e7da8cebac"
      },
      "id": "o45G2E9XKg6V",
      "execution_count": 9,
      "outputs": [
        {
          "output_type": "stream",
          "name": "stderr",
          "text": [
            "[nltk_data] Downloading package punkt to /root/nltk_data...\n",
            "[nltk_data]   Unzipping tokenizers/punkt.zip.\n"
          ]
        },
        {
          "output_type": "execute_result",
          "data": {
            "text/plain": [
              "True"
            ]
          },
          "metadata": {},
          "execution_count": 9
        }
      ]
    },
    {
      "cell_type": "code",
      "source": [
        "from keras.preprocessing.text import Tokenizer"
      ],
      "metadata": {
        "id": "AkZhPqp3K5i5"
      },
      "id": "AkZhPqp3K5i5",
      "execution_count": 13,
      "outputs": []
    },
    {
      "cell_type": "code",
      "source": [
        "tokenizer = Tokenizer(num_words=max_features)\n",
        "tokenizer.fit_on_texts(list(X_train))\n",
        "X_train = tokenizer.texts_to_sequences(X_train)\n",
        "X_val = tokenizer.texts_to_sequences(X_val)"
      ],
      "metadata": {
        "id": "qq_FnamoHlqe"
      },
      "id": "qq_FnamoHlqe",
      "execution_count": 14,
      "outputs": []
    },
    {
      "cell_type": "code",
      "source": [
        "X_test = tokenizer.texts_to_sequences(test['Tweet'])\n",
        "X_test =pad_sequences(X_test, maxlen=max_words)"
      ],
      "metadata": {
        "id": "Rzosa49YHyO9"
      },
      "id": "Rzosa49YHyO9",
      "execution_count": 15,
      "outputs": []
    },
    {
      "cell_type": "code",
      "source": [
        "X_train =pad_sequences(X_train, maxlen=max_words)\n",
        "X_val = pad_sequences(X_val, maxlen=max_words)\n",
        "X_test =pad_sequences(X_test, maxlen=max_words)"
      ],
      "metadata": {
        "id": "QK6bCgBQHzBf"
      },
      "id": "QK6bCgBQHzBf",
      "execution_count": 16,
      "outputs": []
    },
    {
      "cell_type": "code",
      "source": [
        "model3_LSTM=Sequential()\n",
        "model3_LSTM.add(Embedding(max_features,100,mask_zero=True))\n",
        "model3_LSTM.add(LSTM(64,dropout=0.4,return_sequences=True))\n",
        "model3_LSTM.add(LSTM(32,dropout=0.5,return_sequences=False))\n",
        "model3_LSTM.add(Dense(num_classes,activation='sigmoid'))\n",
        "model3_LSTM.compile(loss='binary_crossentropy',optimizer=Adam(lr = 0.001),metrics=['accuracy'])\n",
        "model3_LSTM.summary()"
      ],
      "metadata": {
        "colab": {
          "base_uri": "https://localhost:8080/"
        },
        "id": "SeQnlN40HzHz",
        "outputId": "7b587371-4a6b-4a50-c670-84b7b238e212"
      },
      "id": "SeQnlN40HzHz",
      "execution_count": 17,
      "outputs": [
        {
          "output_type": "stream",
          "name": "stdout",
          "text": [
            "Model: \"sequential\"\n",
            "_________________________________________________________________\n",
            " Layer (type)                Output Shape              Param #   \n",
            "=================================================================\n",
            " embedding (Embedding)       (None, None, 100)         1300000   \n",
            "                                                                 \n",
            " lstm (LSTM)                 (None, None, 64)          42240     \n",
            "                                                                 \n",
            " lstm_1 (LSTM)               (None, 32)                12416     \n",
            "                                                                 \n",
            " dense (Dense)               (None, 4)                 132       \n",
            "                                                                 \n",
            "=================================================================\n",
            "Total params: 1,354,788\n",
            "Trainable params: 1,354,788\n",
            "Non-trainable params: 0\n",
            "_________________________________________________________________\n"
          ]
        },
        {
          "output_type": "stream",
          "name": "stderr",
          "text": [
            "/usr/local/lib/python3.9/dist-packages/keras/optimizers/legacy/adam.py:117: UserWarning: The `lr` argument is deprecated, use `learning_rate` instead.\n",
            "  super().__init__(name, **kwargs)\n"
          ]
        }
      ]
    },
    {
      "cell_type": "code",
      "source": [
        "history3=model3_LSTM.fit(X_train, Y_train, validation_data=(X_val, Y_val),epochs=epochs, batch_size=batch_size, verbose=1)"
      ],
      "metadata": {
        "colab": {
          "base_uri": "https://localhost:8080/"
        },
        "id": "A89Xfb-yICZ8",
        "outputId": "fe7bc1ab-fed5-40cd-d24e-7c64e41bf1de"
      },
      "id": "A89Xfb-yICZ8",
      "execution_count": 18,
      "outputs": [
        {
          "output_type": "stream",
          "name": "stdout",
          "text": [
            "Epoch 1/3\n",
            "13/13 [==============================] - 16s 452ms/step - loss: 0.6802 - accuracy: 0.2754 - val_loss: 0.6644 - val_accuracy: 0.1931\n",
            "Epoch 2/3\n",
            "13/13 [==============================] - 3s 216ms/step - loss: 0.6099 - accuracy: 0.2778 - val_loss: 0.6042 - val_accuracy: 0.1966\n",
            "Epoch 3/3\n",
            "13/13 [==============================] - 4s 293ms/step - loss: 0.5720 - accuracy: 0.3391 - val_loss: 0.6037 - val_accuracy: 0.1897\n"
          ]
        }
      ]
    },
    {
      "cell_type": "code",
      "source": [
        "#y_pred3=model3_LSTM.predict_classes(X_test, verbose=1)\n",
        "import numpy as np\n",
        "predict_x=model3_LSTM.predict(X_test) \n",
        "classes_x=np.argmax(predict_x,axis=1)\n",
        "\n",
        "classes_x"
      ],
      "metadata": {
        "colab": {
          "base_uri": "https://localhost:8080/"
        },
        "id": "eVSiI_DxIDIX",
        "outputId": "0614644b-a247-4c0a-86dd-a29ce67f3ee0"
      },
      "id": "eVSiI_DxIDIX",
      "execution_count": 19,
      "outputs": [
        {
          "output_type": "stream",
          "name": "stdout",
          "text": [
            "35/35 [==============================] - 4s 30ms/step\n"
          ]
        },
        {
          "output_type": "execute_result",
          "data": {
            "text/plain": [
              "array([0, 0, 0, ..., 0, 0, 0])"
            ]
          },
          "metadata": {},
          "execution_count": 19
        }
      ]
    }
  ],
  "metadata": {
    "kernelspec": {
      "display_name": "Python 3 (ipykernel)",
      "language": "python",
      "name": "python3"
    },
    "language_info": {
      "codemirror_mode": {
        "name": "ipython",
        "version": 3
      },
      "file_extension": ".py",
      "mimetype": "text/x-python",
      "name": "python",
      "nbconvert_exporter": "python",
      "pygments_lexer": "ipython3",
      "version": "3.9.12"
    },
    "colab": {
      "provenance": []
    }
  },
  "nbformat": 4,
  "nbformat_minor": 5
}