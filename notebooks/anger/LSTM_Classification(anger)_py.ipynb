{
  "cells": [
    {
      "cell_type": "code",
      "source": [
        "from nltk.corpus import stopwords\n",
        "import pandas as pd\n",
        "import re\n",
        "from nltk.stem import PorterStemmer\n",
        "stemmer = PorterStemmer()"
      ],
      "metadata": {
        "id": "2L_mDXplHQF9"
      },
      "id": "2L_mDXplHQF9",
      "execution_count": 100,
      "outputs": []
    },
    {
      "cell_type": "code",
      "source": [
        "train = pd.read_csv('EI-oc-En-anger-train.txt', sep='\\t', error_bad_lines=False)\n",
        "train.columns = [\"ID\", \"Tweet\", \"Affect_Dimension\", \"Intensity_Class\"]\n",
        "dev = pd.read_csv('EI-oc-En-anger-dev.txt', sep='\\t', error_bad_lines=False)\n",
        "dev.columns = [\"ID\", \"Tweet\", \"Affect_Dimension\", \"Intensity_Class\"]\n",
        "test= pd.read_csv(\"EI-oc-En-anger-test.txt\", sep='\\t', error_bad_lines=False)\n",
        "test.columns = [\"ID\", \"Tweet\", \"Affect_Dimension\", \"Intensity_Class\"]"
      ],
      "metadata": {
        "colab": {
          "base_uri": "https://localhost:8080/"
        },
        "id": "ZanxuMeTHSAF",
        "outputId": "1f6dd315-5a40-4c85-cc09-1260d779acd7"
      },
      "id": "ZanxuMeTHSAF",
      "execution_count": 101,
      "outputs": [
        {
          "output_type": "stream",
          "name": "stderr",
          "text": [
            "<ipython-input-101-788454d9d8d3>:1: FutureWarning: The error_bad_lines argument has been deprecated and will be removed in a future version. Use on_bad_lines in the future.\n",
            "\n",
            "\n",
            "  train = pd.read_csv('EI-oc-En-anger-train.txt', sep='\\t', error_bad_lines=False)\n",
            "<ipython-input-101-788454d9d8d3>:3: FutureWarning: The error_bad_lines argument has been deprecated and will be removed in a future version. Use on_bad_lines in the future.\n",
            "\n",
            "\n",
            "  dev = pd.read_csv('EI-oc-En-anger-dev.txt', sep='\\t', error_bad_lines=False)\n",
            "<ipython-input-101-788454d9d8d3>:5: FutureWarning: The error_bad_lines argument has been deprecated and will be removed in a future version. Use on_bad_lines in the future.\n",
            "\n",
            "\n",
            "  test= pd.read_csv(\"EI-oc-En-anger-test.txt\", sep='\\t', error_bad_lines=False)\n"
          ]
        }
      ]
    },
    {
      "cell_type": "code",
      "source": [
        "test"
      ],
      "metadata": {
        "colab": {
          "base_uri": "https://localhost:8080/",
          "height": 424
        },
        "id": "cV1imXEcHTvy",
        "outputId": "050d9201-e75b-4fcc-aad5-79829e4b4f6f"
      },
      "id": "cV1imXEcHTvy",
      "execution_count": 102,
      "outputs": [
        {
          "output_type": "execute_result",
          "data": {
            "text/plain": [
              "                 ID                                              Tweet  \\\n",
              "0     2018-En-02328  @PageShhh1 I know you mean well but I'm offend...   \n",
              "1     2018-En-02617  Let go of resentment, it will hold you back, d...   \n",
              "2     2018-En-01021  No, I'm not 'depressed because of the weather,...   \n",
              "3     2018-En-03737  #AmarnathTerrorAttack  Muslims are killing eve...   \n",
              "4     2018-En-03407  Prepare to suffer the sting of Ghost Rider's p...   \n",
              "...             ...                                                ...   \n",
              "997   2018-En-00089  That morning when you get half-way to work and...   \n",
              "998   2018-En-00891  @SenecaReads @zimyix @MouthyBuddha I bet he ne...   \n",
              "999   2018-En-03356  @markaw214 @appleofeden_3 @jjasq @XxPLWxX Ring...   \n",
              "1000  2018-En-03011  Have to go to a occupational services place fo...   \n",
              "1001  2018-En-00897                           Of course Molina #bitter   \n",
              "\n",
              "     Affect_Dimension Intensity_Class  \n",
              "0               anger            NONE  \n",
              "1               anger            NONE  \n",
              "2               anger            NONE  \n",
              "3               anger            NONE  \n",
              "4               anger            NONE  \n",
              "...               ...             ...  \n",
              "997             anger            NONE  \n",
              "998             anger            NONE  \n",
              "999             anger            NONE  \n",
              "1000            anger            NONE  \n",
              "1001            anger            NONE  \n",
              "\n",
              "[1002 rows x 4 columns]"
            ],
            "text/html": [
              "\n",
              "  <div id=\"df-fa87e302-5f74-4180-a20a-3145b6e86005\">\n",
              "    <div class=\"colab-df-container\">\n",
              "      <div>\n",
              "<style scoped>\n",
              "    .dataframe tbody tr th:only-of-type {\n",
              "        vertical-align: middle;\n",
              "    }\n",
              "\n",
              "    .dataframe tbody tr th {\n",
              "        vertical-align: top;\n",
              "    }\n",
              "\n",
              "    .dataframe thead th {\n",
              "        text-align: right;\n",
              "    }\n",
              "</style>\n",
              "<table border=\"1\" class=\"dataframe\">\n",
              "  <thead>\n",
              "    <tr style=\"text-align: right;\">\n",
              "      <th></th>\n",
              "      <th>ID</th>\n",
              "      <th>Tweet</th>\n",
              "      <th>Affect_Dimension</th>\n",
              "      <th>Intensity_Class</th>\n",
              "    </tr>\n",
              "  </thead>\n",
              "  <tbody>\n",
              "    <tr>\n",
              "      <th>0</th>\n",
              "      <td>2018-En-02328</td>\n",
              "      <td>@PageShhh1 I know you mean well but I'm offend...</td>\n",
              "      <td>anger</td>\n",
              "      <td>NONE</td>\n",
              "    </tr>\n",
              "    <tr>\n",
              "      <th>1</th>\n",
              "      <td>2018-En-02617</td>\n",
              "      <td>Let go of resentment, it will hold you back, d...</td>\n",
              "      <td>anger</td>\n",
              "      <td>NONE</td>\n",
              "    </tr>\n",
              "    <tr>\n",
              "      <th>2</th>\n",
              "      <td>2018-En-01021</td>\n",
              "      <td>No, I'm not 'depressed because of the weather,...</td>\n",
              "      <td>anger</td>\n",
              "      <td>NONE</td>\n",
              "    </tr>\n",
              "    <tr>\n",
              "      <th>3</th>\n",
              "      <td>2018-En-03737</td>\n",
              "      <td>#AmarnathTerrorAttack  Muslims are killing eve...</td>\n",
              "      <td>anger</td>\n",
              "      <td>NONE</td>\n",
              "    </tr>\n",
              "    <tr>\n",
              "      <th>4</th>\n",
              "      <td>2018-En-03407</td>\n",
              "      <td>Prepare to suffer the sting of Ghost Rider's p...</td>\n",
              "      <td>anger</td>\n",
              "      <td>NONE</td>\n",
              "    </tr>\n",
              "    <tr>\n",
              "      <th>...</th>\n",
              "      <td>...</td>\n",
              "      <td>...</td>\n",
              "      <td>...</td>\n",
              "      <td>...</td>\n",
              "    </tr>\n",
              "    <tr>\n",
              "      <th>997</th>\n",
              "      <td>2018-En-00089</td>\n",
              "      <td>That morning when you get half-way to work and...</td>\n",
              "      <td>anger</td>\n",
              "      <td>NONE</td>\n",
              "    </tr>\n",
              "    <tr>\n",
              "      <th>998</th>\n",
              "      <td>2018-En-00891</td>\n",
              "      <td>@SenecaReads @zimyix @MouthyBuddha I bet he ne...</td>\n",
              "      <td>anger</td>\n",
              "      <td>NONE</td>\n",
              "    </tr>\n",
              "    <tr>\n",
              "      <th>999</th>\n",
              "      <td>2018-En-03356</td>\n",
              "      <td>@markaw214 @appleofeden_3 @jjasq @XxPLWxX Ring...</td>\n",
              "      <td>anger</td>\n",
              "      <td>NONE</td>\n",
              "    </tr>\n",
              "    <tr>\n",
              "      <th>1000</th>\n",
              "      <td>2018-En-03011</td>\n",
              "      <td>Have to go to a occupational services place fo...</td>\n",
              "      <td>anger</td>\n",
              "      <td>NONE</td>\n",
              "    </tr>\n",
              "    <tr>\n",
              "      <th>1001</th>\n",
              "      <td>2018-En-00897</td>\n",
              "      <td>Of course Molina #bitter</td>\n",
              "      <td>anger</td>\n",
              "      <td>NONE</td>\n",
              "    </tr>\n",
              "  </tbody>\n",
              "</table>\n",
              "<p>1002 rows × 4 columns</p>\n",
              "</div>\n",
              "      <button class=\"colab-df-convert\" onclick=\"convertToInteractive('df-fa87e302-5f74-4180-a20a-3145b6e86005')\"\n",
              "              title=\"Convert this dataframe to an interactive table.\"\n",
              "              style=\"display:none;\">\n",
              "        \n",
              "  <svg xmlns=\"http://www.w3.org/2000/svg\" height=\"24px\"viewBox=\"0 0 24 24\"\n",
              "       width=\"24px\">\n",
              "    <path d=\"M0 0h24v24H0V0z\" fill=\"none\"/>\n",
              "    <path d=\"M18.56 5.44l.94 2.06.94-2.06 2.06-.94-2.06-.94-.94-2.06-.94 2.06-2.06.94zm-11 1L8.5 8.5l.94-2.06 2.06-.94-2.06-.94L8.5 2.5l-.94 2.06-2.06.94zm10 10l.94 2.06.94-2.06 2.06-.94-2.06-.94-.94-2.06-.94 2.06-2.06.94z\"/><path d=\"M17.41 7.96l-1.37-1.37c-.4-.4-.92-.59-1.43-.59-.52 0-1.04.2-1.43.59L10.3 9.45l-7.72 7.72c-.78.78-.78 2.05 0 2.83L4 21.41c.39.39.9.59 1.41.59.51 0 1.02-.2 1.41-.59l7.78-7.78 2.81-2.81c.8-.78.8-2.07 0-2.86zM5.41 20L4 18.59l7.72-7.72 1.47 1.35L5.41 20z\"/>\n",
              "  </svg>\n",
              "      </button>\n",
              "      \n",
              "  <style>\n",
              "    .colab-df-container {\n",
              "      display:flex;\n",
              "      flex-wrap:wrap;\n",
              "      gap: 12px;\n",
              "    }\n",
              "\n",
              "    .colab-df-convert {\n",
              "      background-color: #E8F0FE;\n",
              "      border: none;\n",
              "      border-radius: 50%;\n",
              "      cursor: pointer;\n",
              "      display: none;\n",
              "      fill: #1967D2;\n",
              "      height: 32px;\n",
              "      padding: 0 0 0 0;\n",
              "      width: 32px;\n",
              "    }\n",
              "\n",
              "    .colab-df-convert:hover {\n",
              "      background-color: #E2EBFA;\n",
              "      box-shadow: 0px 1px 2px rgba(60, 64, 67, 0.3), 0px 1px 3px 1px rgba(60, 64, 67, 0.15);\n",
              "      fill: #174EA6;\n",
              "    }\n",
              "\n",
              "    [theme=dark] .colab-df-convert {\n",
              "      background-color: #3B4455;\n",
              "      fill: #D2E3FC;\n",
              "    }\n",
              "\n",
              "    [theme=dark] .colab-df-convert:hover {\n",
              "      background-color: #434B5C;\n",
              "      box-shadow: 0px 1px 3px 1px rgba(0, 0, 0, 0.15);\n",
              "      filter: drop-shadow(0px 1px 2px rgba(0, 0, 0, 0.3));\n",
              "      fill: #FFFFFF;\n",
              "    }\n",
              "  </style>\n",
              "\n",
              "      <script>\n",
              "        const buttonEl =\n",
              "          document.querySelector('#df-fa87e302-5f74-4180-a20a-3145b6e86005 button.colab-df-convert');\n",
              "        buttonEl.style.display =\n",
              "          google.colab.kernel.accessAllowed ? 'block' : 'none';\n",
              "\n",
              "        async function convertToInteractive(key) {\n",
              "          const element = document.querySelector('#df-fa87e302-5f74-4180-a20a-3145b6e86005');\n",
              "          const dataTable =\n",
              "            await google.colab.kernel.invokeFunction('convertToInteractive',\n",
              "                                                     [key], {});\n",
              "          if (!dataTable) return;\n",
              "\n",
              "          const docLinkHtml = 'Like what you see? Visit the ' +\n",
              "            '<a target=\"_blank\" href=https://colab.research.google.com/notebooks/data_table.ipynb>data table notebook</a>'\n",
              "            + ' to learn more about interactive tables.';\n",
              "          element.innerHTML = '';\n",
              "          dataTable['output_type'] = 'display_data';\n",
              "          await google.colab.output.renderOutput(dataTable, element);\n",
              "          const docLink = document.createElement('div');\n",
              "          docLink.innerHTML = docLinkHtml;\n",
              "          element.appendChild(docLink);\n",
              "        }\n",
              "      </script>\n",
              "    </div>\n",
              "  </div>\n",
              "  "
            ]
          },
          "metadata": {},
          "execution_count": 102
        }
      ]
    },
    {
      "cell_type": "code",
      "source": [
        "train['Intensity_Class'] = pd.Categorical(train['Intensity_Class'])\n",
        "train['Intensity_Class'] =train.Intensity_Class.cat.codes\n",
        "\n",
        "dev['Intensity_Class'] = pd.Categorical(dev['Intensity_Class'])\n",
        "dev['Intensity_Class'] = dev.Intensity_Class.cat.codes\n",
        "\n",
        "test['Intensity_Class'] = pd.Categorical(test['Intensity_Class'])\n",
        "test['Intensity_Class'] = test.Intensity_Class.cat.codes"
      ],
      "metadata": {
        "id": "7fp6eGY9HV7Y"
      },
      "id": "7fp6eGY9HV7Y",
      "execution_count": 103,
      "outputs": []
    },
    {
      "cell_type": "code",
      "source": [
        "import nltk\n",
        "nltk.download('stopwords')\n",
        "\n",
        "stop_words = set(stopwords.words('english'))\n",
        "stop_words.update([\"now\",\"let\", 'zero', 'one', 'two', 'three','four','five','six','seven','eight','nine','ten','may','also','across','among','beside','however','yet','within'])\n",
        "re_stop_words = re.compile(r\"\\b(\" + \"|\".join(stop_words) + \")\\\\W\", re.I)\n",
        "\n",
        "#Removing Stop Words\n",
        "\n",
        "def removeStopWords(sentence):\n",
        "    global re_stop_words\n",
        "    return re_stop_words.sub(\" \", sentence)\n",
        "\n",
        "train['Tweet'] = train['Tweet'].apply(removeStopWords)\n",
        "test['Tweet'] = test['Tweet'].apply(removeStopWords)\n",
        "dev['Tweet'] = dev['Tweet'].apply(removeStopWords)\n",
        "\n",
        "#Stemming\n",
        "from nltk.stem import PorterStemmer\n",
        "stemmer = PorterStemmer()\n",
        "from nltk.stem.snowball import SnowballStemmer\n",
        "\n",
        "stemmer = SnowballStemmer(\"english\")\n",
        "def stemming(sentence):\n",
        "    stemSentence = \"\"\n",
        "    for word in sentence.split():\n",
        "        stem = stemmer.stem(word)\n",
        "        stemSentence += stem\n",
        "        stemSentence += \" \"\n",
        "    stemSentence = stemSentence.strip()\n",
        "    return stemSentence\n",
        "\n",
        "train['Tweet'] = train['Tweet'].apply(stemming)\n",
        "dev['Tweet'] = dev['Tweet'].apply(stemming)\n",
        "test['Tweet'] = test['Tweet'].apply(stemming)"
      ],
      "metadata": {
        "colab": {
          "base_uri": "https://localhost:8080/"
        },
        "id": "iTkWzYERHYlB",
        "outputId": "b5b5b5f8-154d-4685-ffd3-46aa2c08fae2"
      },
      "id": "iTkWzYERHYlB",
      "execution_count": 104,
      "outputs": [
        {
          "output_type": "stream",
          "name": "stderr",
          "text": [
            "[nltk_data] Downloading package stopwords to /root/nltk_data...\n",
            "[nltk_data]   Package stopwords is already up-to-date!\n"
          ]
        }
      ]
    },
    {
      "cell_type": "code",
      "source": [
        "from keras.utils import to_categorical\n",
        "target=train.Intensity_Class.values\n",
        "y=to_categorical(target)\n",
        "\n",
        "target=dev.Intensity_Class.values\n",
        "c=to_categorical(target)\n",
        "\n",
        "max_features = 13000\n",
        "max_words = 50\n",
        "batch_size = 128\n",
        "epochs = 3\n",
        "num_classes=4\n",
        "\n",
        "X_train = train[\"Tweet\"]\n",
        "X_val = dev[\"Tweet\"]\n",
        "Y_train = y\n",
        "Y_val = c"
      ],
      "metadata": {
        "id": "ukWDUXhNHdyA"
      },
      "id": "ukWDUXhNHdyA",
      "execution_count": 105,
      "outputs": []
    },
    {
      "cell_type": "code",
      "source": [
        "from keras.utils import pad_sequences\n",
        "from keras.models import Sequential\n",
        "from keras.layers import Dense,GRU,LSTM,Embedding\n",
        "from keras.optimizers import Adam\n",
        "from keras.layers import SpatialDropout1D,Dropout,Bidirectional,Conv1D,GlobalMaxPooling1D,MaxPooling1D,Flatten\n",
        "from keras.callbacks import ModelCheckpoint, TensorBoard, Callback, EarlyStopping"
      ],
      "metadata": {
        "id": "EBUTWqdHHjjX"
      },
      "id": "EBUTWqdHHjjX",
      "execution_count": 106,
      "outputs": []
    },
    {
      "cell_type": "code",
      "source": [
        "tokenizer = Tokenizer(num_words=max_features)\n",
        "tokenizer.fit_on_texts(list(X_train))\n",
        "X_train = tokenizer.texts_to_sequences(X_train)\n",
        "X_val = tokenizer.texts_to_sequences(X_val)"
      ],
      "metadata": {
        "id": "qq_FnamoHlqe"
      },
      "id": "qq_FnamoHlqe",
      "execution_count": 107,
      "outputs": []
    },
    {
      "cell_type": "code",
      "source": [
        "X_test = tokenizer.texts_to_sequences(test['Tweet'])\n",
        "X_test =pad_sequences(X_test, maxlen=max_words)"
      ],
      "metadata": {
        "id": "Rzosa49YHyO9"
      },
      "id": "Rzosa49YHyO9",
      "execution_count": 108,
      "outputs": []
    },
    {
      "cell_type": "code",
      "source": [
        "X_train =pad_sequences(X_train, maxlen=max_words)\n",
        "X_val = pad_sequences(X_val, maxlen=max_words)\n",
        "X_test =pad_sequences(X_test, maxlen=max_words)"
      ],
      "metadata": {
        "id": "QK6bCgBQHzBf"
      },
      "id": "QK6bCgBQHzBf",
      "execution_count": 109,
      "outputs": []
    },
    {
      "cell_type": "code",
      "source": [
        "model3_LSTM=Sequential()\n",
        "model3_LSTM.add(Embedding(max_features,100,mask_zero=True))\n",
        "model3_LSTM.add(LSTM(64,dropout=0.4,return_sequences=True))\n",
        "model3_LSTM.add(LSTM(32,dropout=0.5,return_sequences=False))\n",
        "model3_LSTM.add(Dense(num_classes,activation='sigmoid'))\n",
        "model3_LSTM.compile(loss='binary_crossentropy',optimizer=Adam(lr = 0.001),metrics=['accuracy'])\n",
        "model3_LSTM.summary()"
      ],
      "metadata": {
        "colab": {
          "base_uri": "https://localhost:8080/"
        },
        "id": "SeQnlN40HzHz",
        "outputId": "a31be02e-7940-4854-9af2-b2943d810cff"
      },
      "id": "SeQnlN40HzHz",
      "execution_count": 110,
      "outputs": [
        {
          "output_type": "stream",
          "name": "stdout",
          "text": [
            "Model: \"sequential_1\"\n",
            "_________________________________________________________________\n",
            " Layer (type)                Output Shape              Param #   \n",
            "=================================================================\n",
            " embedding_1 (Embedding)     (None, None, 100)         1300000   \n",
            "                                                                 \n",
            " lstm_2 (LSTM)               (None, None, 64)          42240     \n",
            "                                                                 \n",
            " lstm_3 (LSTM)               (None, 32)                12416     \n",
            "                                                                 \n",
            " dense_1 (Dense)             (None, 4)                 132       \n",
            "                                                                 \n",
            "=================================================================\n",
            "Total params: 1,354,788\n",
            "Trainable params: 1,354,788\n",
            "Non-trainable params: 0\n",
            "_________________________________________________________________\n"
          ]
        },
        {
          "output_type": "stream",
          "name": "stderr",
          "text": [
            "/usr/local/lib/python3.9/dist-packages/keras/optimizers/legacy/adam.py:117: UserWarning: The `lr` argument is deprecated, use `learning_rate` instead.\n",
            "  super().__init__(name, **kwargs)\n"
          ]
        }
      ]
    },
    {
      "cell_type": "code",
      "source": [
        "history3=model3_LSTM.fit(X_train, Y_train, validation_data=(X_val, Y_val),epochs=epochs, batch_size=batch_size, verbose=1)"
      ],
      "metadata": {
        "colab": {
          "base_uri": "https://localhost:8080/"
        },
        "id": "A89Xfb-yICZ8",
        "outputId": "8f8261b9-2717-4370-86d4-5d59da08c507"
      },
      "id": "A89Xfb-yICZ8",
      "execution_count": 111,
      "outputs": [
        {
          "output_type": "stream",
          "name": "stdout",
          "text": [
            "Epoch 1/3\n",
            "14/14 [==============================] - 23s 594ms/step - loss: 0.6778 - accuracy: 0.2887 - val_loss: 0.6537 - val_accuracy: 0.3093\n",
            "Epoch 2/3\n",
            "14/14 [==============================] - 3s 210ms/step - loss: 0.5989 - accuracy: 0.3510 - val_loss: 0.5925 - val_accuracy: 0.3041\n",
            "Epoch 3/3\n",
            "14/14 [==============================] - 3s 220ms/step - loss: 0.5723 - accuracy: 0.3133 - val_loss: 0.5877 - val_accuracy: 0.2990\n"
          ]
        }
      ]
    },
    {
      "cell_type": "code",
      "source": [
        "#y_pred3=model3_LSTM.predict_classes(X_test, verbose=1)\n",
        "import numpy as np\n",
        "predict_x=model3_LSTM.predict(X_test) \n",
        "classes_x=np.argmax(predict_x,axis=1)\n",
        "\n",
        "classes_x"
      ],
      "metadata": {
        "colab": {
          "base_uri": "https://localhost:8080/"
        },
        "id": "eVSiI_DxIDIX",
        "outputId": "95ff7fa5-d048-44b0-c45c-9d2e37d2ad07"
      },
      "id": "eVSiI_DxIDIX",
      "execution_count": 117,
      "outputs": [
        {
          "output_type": "stream",
          "name": "stdout",
          "text": [
            "32/32 [==============================] - 1s 35ms/step\n"
          ]
        },
        {
          "output_type": "execute_result",
          "data": {
            "text/plain": [
              "array([2, 2, 2, ..., 2, 2, 0])"
            ]
          },
          "metadata": {},
          "execution_count": 117
        }
      ]
    }
  ],
  "metadata": {
    "kernelspec": {
      "display_name": "Python 3 (ipykernel)",
      "language": "python",
      "name": "python3"
    },
    "language_info": {
      "codemirror_mode": {
        "name": "ipython",
        "version": 3
      },
      "file_extension": ".py",
      "mimetype": "text/x-python",
      "name": "python",
      "nbconvert_exporter": "python",
      "pygments_lexer": "ipython3",
      "version": "3.9.12"
    },
    "colab": {
      "provenance": []
    }
  },
  "nbformat": 4,
  "nbformat_minor": 5
}